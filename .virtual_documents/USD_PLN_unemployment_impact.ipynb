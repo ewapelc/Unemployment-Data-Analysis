# !pip install pandas
# !pip install openpyxl
# !pip install seaborn


import pandas as pd
import matplotlib.pyplot as plt
import seaborn as sns

import warnings
warnings.filterwarnings("ignore", "use_inf_as_na")

%matplotlib inline





# Reading file and displaying first rows to see the structure of data - USD/PLN
usd_pln = pd.read_excel('files/USD_PLN.xlsx', sheet_name = 0)
usd_pln.head()


# Viewing columns and their datatypes
usd_pln.info()


# Reading file and displaying first rows to see the structure of data - unemployment
unemployment = pd.read_excel('files/general_unemployment.xlsx', sheet_name = 1)
unemployment.head()


# Viewing columns and their datatypes
unemployment.info()


# Cleaning up data - drop  irrelevant columns
usd_pln.drop(['Otwarcie', 'Max.', 'Min.', 'Wol.', 'Zmiana%'], axis = 1, inplace = True)
usd_pln.rename(columns={'Ostatnio': 'Kurs'}, inplace=True)
usd_pln.head()


# Calculate mean value of USD/PLN for each month
usd_pln['year'] = usd_pln['Data'].dt.year
usd_pln['month'] = usd_pln['Data'].dt.month
monthly_mean = usd_pln.groupby(['year', 'month'])['Kurs'].mean()

# Merge monthly mean back into the original data
usd_pln = usd_pln.drop(columns=['Data', 'Kurs'])
usd_pln = usd_pln.drop_duplicates(subset=['year', 'month'])
usd_pln = usd_pln.merge(monthly_mean, on=['year', 'month'])
usd_pln['date'] = pd.to_datetime(usd_pln[['year', 'month']].assign(day=1))
usd_pln.head()


# Cleaning up data - drop null data and irrelevant columns
unemployment = unemployment[unemployment['Atrybut'] != 'n']
unemployment.drop(['Kod', 'Nazwa', 'Jednostka miary', 'Atrybut'], axis = 1, inplace = True)
unemployment.rename(columns={'Wartosc': 'Osoby'}, inplace=True)
unemployment.head()


# Preparing month map to create date column
month_mapping = {
    'styczeń' : 1,
    'luty' : 2,
    'marzec' : 3,
    'kwiecień' : 4,
    'maj' : 5,
    'czerwiec' : 6,
    'lipiec' : 7,
    'sierpień' : 8,
    'wrzesień' : 9,
    'październik' : 10,
    'listopad' : 11,
    'grudzień' : 12
}


# Applying month map and creating date column
unemployment['Month'] = unemployment['Miesiące'].map(month_mapping)
unemployment.rename(columns = {'Rok' : 'Year'}, inplace = True)
unemployment['Data'] = pd.to_datetime(unemployment[['Year', 'Month']].assign(DAY=1))

# Changing type of number of people to int
unemployment['Osoby'] = unemployment['Osoby'].astype(int)
unemployment.head()








fig = plt.figure(figsize = [12,8])

plt.subplot(2, 1, 1)
sns.lineplot(
    x="Data",
    y="Osoby",
    data=unemployment[unemployment['Płeć'] == "ogółem"],
    label="Unemployment"
)

plt.subplot(2, 1, 2)
sns.lineplot(
    x="date",
    y="Kurs",
    data=usd_pln,
    label="USD/PLN"
)
plt.xlabel("Data")
plt.tight_layout()

plt.legend()

plt.show()


plt.figure(figsize=(10, 5))

# Unemployment data
ax1 = sns.lineplot(
    x="Data",
    y="Osoby",
    data=unemployment[unemployment['Płeć'] == "ogółem"],
    label="Unemployment"
)
ax1.set_xlabel("Data")
ax1.set_ylabel("Osoby", color='tab:blue')
ax1.tick_params(axis='y', labelcolor='tab:blue')

# Currency data
ax2 = ax1.twinx()
sns.lineplot(
    x="date",
    y="Kurs",
    data=usd_pln,
    ax=ax2,
    color='tab:red',
    label="USD/PLN"
)
ax2.set_ylabel("USD/PLN", color='tab:red')
ax2.tick_params(axis='y', labelcolor='tab:red')

# Combining legends
lines, labels = ax1.get_legend_handles_labels()
lines2, labels2 = ax2.get_legend_handles_labels()
ax1.legend(lines + lines2, labels + labels2, loc='upper left')

# Removing duplicate legend
ax2.get_legend().remove()

plt.title("Unemployment and USD/PLN Data over time")
plt.show()
