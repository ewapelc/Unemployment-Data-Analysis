import pandas as pd
import numpy as np
import matplotlib.pyplot as plt
import seaborn as sns

import warnings
warnings.filterwarnings("ignore", "use_inf_as_na")

%matplotlib inline








gender = pd.read_excel('files/gender.xlsx', sheet_name = 1)
gender.head()


gender.info()


for col in gender:
    print(f"{col}:\t\t{gender[col].unique()}")


gender[gender['Atrybut'] == 'n']['Rok'].unique()


gender[gender['Wartosc'] == '-'] == gender[gender['Atrybut'] == 'n']


gender = gender[gender['Atrybut'] != 'n']
gender.drop(['Kod', 'Nazwa', 'Jednostka miary', 'Atrybut'], axis = 1, inplace = True)
gender.head()


gender.head()


month_mapping = {
    'styczeń' : 1,
    'luty' : 2,
    'marzec' : 3,
    'kwiecień' : 4,
    'maj' : 5,
    'czerwiec' : 6,
    'lipiec' : 7,
    'sierpień' : 8,
    'wrzesień' : 9,
    'październik' : 10,
    'listopad' : 11,
    'grudzień' : 12
}


gender['month'] = gender['Miesiące'].map(month_mapping)


gender.rename(columns = {'Rok' : 'year', 'mnth_num' : 'month'}, inplace = True)


gender['Data'] = pd.to_datetime(gender[['year', 'month']].assign(DAY=1))
gender.head()


gender = gender[['Płeć', 'Wartosc', 'Data']]
gender.head()





fig = plt.figure(figsize = [12,8])

sns.lineplot(x="Data", y="Wartosc",
             hue="Płeć",
             data=gender)

# ax.axhline(y=np.mean(gender[gender["Płeć"] == 'kobiety']['Wartosc']), color='green', linestyle='--', label='Linia dodatkowa')


gender.isin([np.inf, -np.inf]).any()


gender['Wartosc'] = gender.Wartosc.astype(int)


fig = plt.figure(figsize = [12,8])

sns.swarmplot(data=gender, x="Płeć", y="Wartosc", hue="Płeć")



