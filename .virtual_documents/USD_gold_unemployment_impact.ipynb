# !pip install pandas
# !pip install openpyxl
# !pip install seaborn


import pandas as pd
import matplotlib.pyplot as plt
import seaborn as sns

import warnings
warnings.filterwarnings("ignore", "use_inf_as_na")

%matplotlib inline





import yfinance as yf

# Symbol dla złota na Yahoo Finance to "GC=F"
symbol = 'GC=F'

# Pobranie danych historycznych z ostatnich 10 lat
gold = yf.download(symbol, start='2011-01-01', end='2024-03-25')

print(gold)





gold.reset_index(inplace=True)
gold.info()


plt.figure(figsize=(10, 6))
plt.plot(gold.Date, gold.Close, 'o', markersize=1, color='blue')  # 'o' oznacza punkty
plt.title('Wykres szeregu czasowego')
plt.xlabel('Data')
plt.ylabel('Wartość')
plt.xticks(rotation=45)  # Obrócenie dat na osi x dla lepszej czytelności
plt.tight_layout()
plt.show()


# Reading file and displaying first rows to see the structure of data - unemployment
unemployment = pd.read_excel('files/general_unemployment.xlsx', sheet_name = 1)
unemployment.head()


# Viewing columns and their datatypes
unemployment.info()





# Cleaning up data - drop null data and irrelevant columns
unemployment = unemployment[unemployment['Atrybut'] != 'n']
unemployment.drop(['Kod', 'Nazwa', 'Jednostka miary', 'Atrybut'], axis = 1, inplace = True)
unemployment.rename(columns={'Wartosc': 'Osoby'}, inplace=True)
unemployment.head()


# Preparing month map to create date column
month_mapping = {
    'styczeń' : 1,
    'luty' : 2,
    'marzec' : 3,
    'kwiecień' : 4,
    'maj' : 5,
    'czerwiec' : 6,
    'lipiec' : 7,
    'sierpień' : 8,
    'wrzesień' : 9,
    'październik' : 10,
    'listopad' : 11,
    'grudzień' : 12
}


# Applying month map and creating date column
unemployment['Month'] = unemployment['Miesiące'].map(month_mapping)
unemployment.rename(columns = {'Rok' : 'Year'}, inplace = True)
unemployment['Data'] = pd.to_datetime(unemployment[['Year', 'Month']].assign(DAY=1))

# Changing type of number of people to int
unemployment['Osoby'] = unemployment['Osoby'].astype(int)
unemployment.head()


fig = plt.figure(figsize = [12,8])

plt.subplot(2, 1, 1)
sns.lineplot(
    x="Data",
    y="Osoby",
    data=unemployment[unemployment['Płeć'] == "ogółem"],
    label="Unemployment"
)

plt.subplot(2, 1, 2)
sns.lineplot(
    x="Date",
    y="Close",
    data=gold,
    label="Kurs złota"
)
plt.xlabel("Data")
plt.tight_layout()

plt.legend()

plt.show()


plt.figure(figsize=(10, 5))
plt.style.use('seaborn')

# Unemployment data
ax1 = sns.lineplot(
    x="Data",
    y="Osoby",
    data=unemployment[unemployment['Płeć'] == "ogółem"],
    label="Unemployment"
)
ax1.set_xlabel("Data")
ax1.set_ylabel("Osoby", color='tab:blue')
ax1.tick_params(axis='y', labelcolor='tab:blue')

# Currency data
ax2 = ax1.twinx()
sns.lineplot(
    x="Date",
    y="Close",
    data=gold,
    ax=ax2,
    color='tab:red',
    label="Cena złota"
)
ax2.set_ylabel("Cena złota", color='tab:red')
ax2.tick_params(axis='y', labelcolor='tab:red')

# Combining legends
lines, labels = ax1.get_legend_handles_labels()
lines2, labels2 = ax2.get_legend_handles_labels()
ax1.legend(lines + lines2, labels + labels2, loc='upper left')

# Removing duplicate legend
ax2.get_legend().remove()


plt.title("Unemployment and Gold Price Data over time")
plt.show()


unemployment.Data



