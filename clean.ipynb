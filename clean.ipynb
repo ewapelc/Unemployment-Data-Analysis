{
 "cells": [
  {
   "cell_type": "code",
   "execution_count": 25,
   "id": "02d404bb-6101-4849-9f69-63020375f72c",
   "metadata": {},
   "outputs": [],
   "source": [
    "import pandas as pd\n",
    "import matplotlib.pyplot as plt\n",
    "import statsmodels.api as sm"
   ]
  },
  {
   "cell_type": "markdown",
   "id": "1b381724",
   "metadata": {},
   "source": [
    "# Data Preprocessing"
   ]
  },
  {
   "cell_type": "code",
   "execution_count": 26,
   "id": "f4901b97-d959-452e-89b9-017d47e44acc",
   "metadata": {},
   "outputs": [
    {
     "data": {
      "text/plain": "            Unemployed\nDate                  \n2011-01-01     2104986\n2011-02-01     2150233\n2011-03-01     2133916\n2011-04-01     2043516\n2011-05-01     1962587\n...                ...\n2023-09-01      775987\n2023-10-01      770446\n2023-11-01      773403\n2023-12-01      788229\n2024-01-01      837063\n\n[157 rows x 1 columns]",
      "text/html": "<div>\n<style scoped>\n    .dataframe tbody tr th:only-of-type {\n        vertical-align: middle;\n    }\n\n    .dataframe tbody tr th {\n        vertical-align: top;\n    }\n\n    .dataframe thead th {\n        text-align: right;\n    }\n</style>\n<table border=\"1\" class=\"dataframe\">\n  <thead>\n    <tr style=\"text-align: right;\">\n      <th></th>\n      <th>Unemployed</th>\n    </tr>\n    <tr>\n      <th>Date</th>\n      <th></th>\n    </tr>\n  </thead>\n  <tbody>\n    <tr>\n      <th>2011-01-01</th>\n      <td>2104986</td>\n    </tr>\n    <tr>\n      <th>2011-02-01</th>\n      <td>2150233</td>\n    </tr>\n    <tr>\n      <th>2011-03-01</th>\n      <td>2133916</td>\n    </tr>\n    <tr>\n      <th>2011-04-01</th>\n      <td>2043516</td>\n    </tr>\n    <tr>\n      <th>2011-05-01</th>\n      <td>1962587</td>\n    </tr>\n    <tr>\n      <th>...</th>\n      <td>...</td>\n    </tr>\n    <tr>\n      <th>2023-09-01</th>\n      <td>775987</td>\n    </tr>\n    <tr>\n      <th>2023-10-01</th>\n      <td>770446</td>\n    </tr>\n    <tr>\n      <th>2023-11-01</th>\n      <td>773403</td>\n    </tr>\n    <tr>\n      <th>2023-12-01</th>\n      <td>788229</td>\n    </tr>\n    <tr>\n      <th>2024-01-01</th>\n      <td>837063</td>\n    </tr>\n  </tbody>\n</table>\n<p>157 rows × 1 columns</p>\n</div>"
     },
     "execution_count": 26,
     "metadata": {},
     "output_type": "execute_result"
    }
   ],
   "source": [
    "df = pd.read_csv('files/general_data.csv', parse_dates=['Data'], index_col='Data')\n",
    "df = df.rename_axis('Date')\n",
    "df.rename(columns={'Osoby': 'Unemployed'}, inplace=True)\n",
    "df"
   ]
  },
  {
   "cell_type": "code",
   "execution_count": 27,
   "id": "a26b8b45",
   "metadata": {},
   "outputs": [
    {
     "name": "stderr",
     "output_type": "stream",
     "text": [
      "[*********************100%%**********************]  1 of 1 completed\n"
     ]
    },
    {
     "data": {
      "text/plain": "                   Open         High          Low        Close    Adj Close  \\\nDate                                                                          \n2010-12-30  1413.800049  1413.800049  1403.099976  1405.599976  1405.599976   \n2010-12-31  1405.699951  1421.099976  1405.699951  1421.099976  1421.099976   \n2011-01-03  1415.599976  1423.900024  1413.699951  1422.599976  1422.599976   \n2011-01-04  1409.599976  1410.900024  1375.800049  1378.500000  1378.500000   \n2011-01-05  1383.400024  1384.000000  1364.199951  1373.400024  1373.400024   \n\n            Volume  \nDate                \n2010-12-30     185  \n2010-12-31      54  \n2011-01-03      28  \n2011-01-04     122  \n2011-01-05     175  ",
      "text/html": "<div>\n<style scoped>\n    .dataframe tbody tr th:only-of-type {\n        vertical-align: middle;\n    }\n\n    .dataframe tbody tr th {\n        vertical-align: top;\n    }\n\n    .dataframe thead th {\n        text-align: right;\n    }\n</style>\n<table border=\"1\" class=\"dataframe\">\n  <thead>\n    <tr style=\"text-align: right;\">\n      <th></th>\n      <th>Open</th>\n      <th>High</th>\n      <th>Low</th>\n      <th>Close</th>\n      <th>Adj Close</th>\n      <th>Volume</th>\n    </tr>\n    <tr>\n      <th>Date</th>\n      <th></th>\n      <th></th>\n      <th></th>\n      <th></th>\n      <th></th>\n      <th></th>\n    </tr>\n  </thead>\n  <tbody>\n    <tr>\n      <th>2010-12-30</th>\n      <td>1413.800049</td>\n      <td>1413.800049</td>\n      <td>1403.099976</td>\n      <td>1405.599976</td>\n      <td>1405.599976</td>\n      <td>185</td>\n    </tr>\n    <tr>\n      <th>2010-12-31</th>\n      <td>1405.699951</td>\n      <td>1421.099976</td>\n      <td>1405.699951</td>\n      <td>1421.099976</td>\n      <td>1421.099976</td>\n      <td>54</td>\n    </tr>\n    <tr>\n      <th>2011-01-03</th>\n      <td>1415.599976</td>\n      <td>1423.900024</td>\n      <td>1413.699951</td>\n      <td>1422.599976</td>\n      <td>1422.599976</td>\n      <td>28</td>\n    </tr>\n    <tr>\n      <th>2011-01-04</th>\n      <td>1409.599976</td>\n      <td>1410.900024</td>\n      <td>1375.800049</td>\n      <td>1378.500000</td>\n      <td>1378.500000</td>\n      <td>122</td>\n    </tr>\n    <tr>\n      <th>2011-01-05</th>\n      <td>1383.400024</td>\n      <td>1384.000000</td>\n      <td>1364.199951</td>\n      <td>1373.400024</td>\n      <td>1373.400024</td>\n      <td>175</td>\n    </tr>\n  </tbody>\n</table>\n</div>"
     },
     "execution_count": 27,
     "metadata": {},
     "output_type": "execute_result"
    }
   ],
   "source": [
    "import yfinance as yf\n",
    "\n",
    "# Symbol dla złota na Yahoo Finance to \"GC=F\"\n",
    "symbol = 'GC=F'\n",
    "\n",
    "# Pobranie danych historycznych z ostatnich 10 lat\n",
    "gold = yf.download(symbol, start='2010-12-30', end='2024-03-25')\n",
    "gold.head()"
   ]
  },
  {
   "cell_type": "code",
   "execution_count": 28,
   "id": "2f502315",
   "metadata": {},
   "outputs": [
    {
     "data": {
      "text/plain": "                   Open         High          Low        Close    Adj Close  \\\nDate                                                                          \n2011-02-01  1333.099976  1342.900024  1325.300049  1339.599976  1339.599976   \n2011-03-01  1415.300049  1434.400024  1415.300049  1430.699951  1430.699951   \n2011-04-01  1433.400024  1436.500000  1413.000000  1428.099976  1428.099976   \n2011-06-01  1535.699951  1550.599976  1529.699951  1542.400024  1542.400024   \n2011-07-01  1502.199951  1502.199951  1480.000000  1482.300049  1482.300049   \n\n            Volume  \nDate                \n2011-02-01    3180  \n2011-03-01     116  \n2011-04-01    5318  \n2011-06-01    2845  \n2011-07-01      66  ",
      "text/html": "<div>\n<style scoped>\n    .dataframe tbody tr th:only-of-type {\n        vertical-align: middle;\n    }\n\n    .dataframe tbody tr th {\n        vertical-align: top;\n    }\n\n    .dataframe thead th {\n        text-align: right;\n    }\n</style>\n<table border=\"1\" class=\"dataframe\">\n  <thead>\n    <tr style=\"text-align: right;\">\n      <th></th>\n      <th>Open</th>\n      <th>High</th>\n      <th>Low</th>\n      <th>Close</th>\n      <th>Adj Close</th>\n      <th>Volume</th>\n    </tr>\n    <tr>\n      <th>Date</th>\n      <th></th>\n      <th></th>\n      <th></th>\n      <th></th>\n      <th></th>\n      <th></th>\n    </tr>\n  </thead>\n  <tbody>\n    <tr>\n      <th>2011-02-01</th>\n      <td>1333.099976</td>\n      <td>1342.900024</td>\n      <td>1325.300049</td>\n      <td>1339.599976</td>\n      <td>1339.599976</td>\n      <td>3180</td>\n    </tr>\n    <tr>\n      <th>2011-03-01</th>\n      <td>1415.300049</td>\n      <td>1434.400024</td>\n      <td>1415.300049</td>\n      <td>1430.699951</td>\n      <td>1430.699951</td>\n      <td>116</td>\n    </tr>\n    <tr>\n      <th>2011-04-01</th>\n      <td>1433.400024</td>\n      <td>1436.500000</td>\n      <td>1413.000000</td>\n      <td>1428.099976</td>\n      <td>1428.099976</td>\n      <td>5318</td>\n    </tr>\n    <tr>\n      <th>2011-06-01</th>\n      <td>1535.699951</td>\n      <td>1550.599976</td>\n      <td>1529.699951</td>\n      <td>1542.400024</td>\n      <td>1542.400024</td>\n      <td>2845</td>\n    </tr>\n    <tr>\n      <th>2011-07-01</th>\n      <td>1502.199951</td>\n      <td>1502.199951</td>\n      <td>1480.000000</td>\n      <td>1482.300049</td>\n      <td>1482.300049</td>\n      <td>66</td>\n    </tr>\n  </tbody>\n</table>\n</div>"
     },
     "execution_count": 28,
     "metadata": {},
     "output_type": "execute_result"
    }
   ],
   "source": [
    "gold_day1 = gold.loc[gold.index.day == 1]\n",
    "gold_day1.head()"
   ]
  },
  {
   "cell_type": "code",
   "execution_count": 29,
   "id": "277beef9",
   "metadata": {},
   "outputs": [
    {
     "data": {
      "text/plain": "            Unemployed        Close\nDate                               \n2011-01-01   2104986.0          NaN\n2011-02-01   2150233.0  1339.599976\n2011-03-01   2133916.0  1430.699951\n2011-04-01   2043516.0  1428.099976\n2011-05-01   1962587.0          NaN\n...                ...          ...\n2023-11-01    773403.0  1978.800049\n2023-12-01    788229.0  2071.000000\n2024-01-01    837063.0          NaN\n2024-02-01         NaN  2053.000000\n2024-03-01         NaN  2086.899902\n\n[159 rows x 2 columns]",
      "text/html": "<div>\n<style scoped>\n    .dataframe tbody tr th:only-of-type {\n        vertical-align: middle;\n    }\n\n    .dataframe tbody tr th {\n        vertical-align: top;\n    }\n\n    .dataframe thead th {\n        text-align: right;\n    }\n</style>\n<table border=\"1\" class=\"dataframe\">\n  <thead>\n    <tr style=\"text-align: right;\">\n      <th></th>\n      <th>Unemployed</th>\n      <th>Close</th>\n    </tr>\n    <tr>\n      <th>Date</th>\n      <th></th>\n      <th></th>\n    </tr>\n  </thead>\n  <tbody>\n    <tr>\n      <th>2011-01-01</th>\n      <td>2104986.0</td>\n      <td>NaN</td>\n    </tr>\n    <tr>\n      <th>2011-02-01</th>\n      <td>2150233.0</td>\n      <td>1339.599976</td>\n    </tr>\n    <tr>\n      <th>2011-03-01</th>\n      <td>2133916.0</td>\n      <td>1430.699951</td>\n    </tr>\n    <tr>\n      <th>2011-04-01</th>\n      <td>2043516.0</td>\n      <td>1428.099976</td>\n    </tr>\n    <tr>\n      <th>2011-05-01</th>\n      <td>1962587.0</td>\n      <td>NaN</td>\n    </tr>\n    <tr>\n      <th>...</th>\n      <td>...</td>\n      <td>...</td>\n    </tr>\n    <tr>\n      <th>2023-11-01</th>\n      <td>773403.0</td>\n      <td>1978.800049</td>\n    </tr>\n    <tr>\n      <th>2023-12-01</th>\n      <td>788229.0</td>\n      <td>2071.000000</td>\n    </tr>\n    <tr>\n      <th>2024-01-01</th>\n      <td>837063.0</td>\n      <td>NaN</td>\n    </tr>\n    <tr>\n      <th>2024-02-01</th>\n      <td>NaN</td>\n      <td>2053.000000</td>\n    </tr>\n    <tr>\n      <th>2024-03-01</th>\n      <td>NaN</td>\n      <td>2086.899902</td>\n    </tr>\n  </tbody>\n</table>\n<p>159 rows × 2 columns</p>\n</div>"
     },
     "execution_count": 29,
     "metadata": {},
     "output_type": "execute_result"
    }
   ],
   "source": [
    "combined = pd.concat([df, gold_day1['Close']], axis=1)\n",
    "combined"
   ]
  },
  {
   "cell_type": "code",
   "execution_count": 30,
   "id": "30e95e81",
   "metadata": {},
   "outputs": [
    {
     "data": {
      "text/plain": "            Ostatnio  Otwarcie    Max.    Min.  Wol.  Zmiana%\nData                                                         \n2024-02-29    3.9910    3.9856  4.0025  3.9750   NaN   0.0022\n2024-02-28    3.9822    3.9702  3.9944  3.9678   NaN   0.0039\n2024-02-27    3.9669    3.9717  3.9850  3.9594   NaN  -0.0004\n2024-02-26    3.9686    3.9839  3.9918  3.9620   NaN  -0.0018\n2024-02-23    3.9756    3.9955  4.0101  3.9755   NaN  -0.0047",
      "text/html": "<div>\n<style scoped>\n    .dataframe tbody tr th:only-of-type {\n        vertical-align: middle;\n    }\n\n    .dataframe tbody tr th {\n        vertical-align: top;\n    }\n\n    .dataframe thead th {\n        text-align: right;\n    }\n</style>\n<table border=\"1\" class=\"dataframe\">\n  <thead>\n    <tr style=\"text-align: right;\">\n      <th></th>\n      <th>Ostatnio</th>\n      <th>Otwarcie</th>\n      <th>Max.</th>\n      <th>Min.</th>\n      <th>Wol.</th>\n      <th>Zmiana%</th>\n    </tr>\n    <tr>\n      <th>Data</th>\n      <th></th>\n      <th></th>\n      <th></th>\n      <th></th>\n      <th></th>\n      <th></th>\n    </tr>\n  </thead>\n  <tbody>\n    <tr>\n      <th>2024-02-29</th>\n      <td>3.9910</td>\n      <td>3.9856</td>\n      <td>4.0025</td>\n      <td>3.9750</td>\n      <td>NaN</td>\n      <td>0.0022</td>\n    </tr>\n    <tr>\n      <th>2024-02-28</th>\n      <td>3.9822</td>\n      <td>3.9702</td>\n      <td>3.9944</td>\n      <td>3.9678</td>\n      <td>NaN</td>\n      <td>0.0039</td>\n    </tr>\n    <tr>\n      <th>2024-02-27</th>\n      <td>3.9669</td>\n      <td>3.9717</td>\n      <td>3.9850</td>\n      <td>3.9594</td>\n      <td>NaN</td>\n      <td>-0.0004</td>\n    </tr>\n    <tr>\n      <th>2024-02-26</th>\n      <td>3.9686</td>\n      <td>3.9839</td>\n      <td>3.9918</td>\n      <td>3.9620</td>\n      <td>NaN</td>\n      <td>-0.0018</td>\n    </tr>\n    <tr>\n      <th>2024-02-23</th>\n      <td>3.9756</td>\n      <td>3.9955</td>\n      <td>4.0101</td>\n      <td>3.9755</td>\n      <td>NaN</td>\n      <td>-0.0047</td>\n    </tr>\n  </tbody>\n</table>\n</div>"
     },
     "execution_count": 30,
     "metadata": {},
     "output_type": "execute_result"
    }
   ],
   "source": [
    "usd_pln = pd.read_excel('files/USD_PLN.xlsx', sheet_name = 0, parse_dates=['Data'], index_col='Data')\n",
    "usd_pln.head()"
   ]
  },
  {
   "cell_type": "code",
   "execution_count": 31,
   "id": "35b3b826",
   "metadata": {},
   "outputs": [
    {
     "data": {
      "text/plain": "            Ostatnio  Otwarcie    Max.    Min.  Wol.  Zmiana%\nData                                                         \n2024-02-01    3.9664    4.0016  4.0250  3.9653   NaN  -0.0082\n2024-01-01    3.9369    3.9368  3.9416  3.9337   NaN   0.0010\n2023-12-01    3.9700    4.0004  4.0119  3.9664   NaN  -0.0071\n2023-11-01    4.2199    4.2116  4.2547  4.2038   NaN   0.0027\n2023-09-01    4.1414    4.1262  4.1494  4.1037   NaN   0.0044",
      "text/html": "<div>\n<style scoped>\n    .dataframe tbody tr th:only-of-type {\n        vertical-align: middle;\n    }\n\n    .dataframe tbody tr th {\n        vertical-align: top;\n    }\n\n    .dataframe thead th {\n        text-align: right;\n    }\n</style>\n<table border=\"1\" class=\"dataframe\">\n  <thead>\n    <tr style=\"text-align: right;\">\n      <th></th>\n      <th>Ostatnio</th>\n      <th>Otwarcie</th>\n      <th>Max.</th>\n      <th>Min.</th>\n      <th>Wol.</th>\n      <th>Zmiana%</th>\n    </tr>\n    <tr>\n      <th>Data</th>\n      <th></th>\n      <th></th>\n      <th></th>\n      <th></th>\n      <th></th>\n      <th></th>\n    </tr>\n  </thead>\n  <tbody>\n    <tr>\n      <th>2024-02-01</th>\n      <td>3.9664</td>\n      <td>4.0016</td>\n      <td>4.0250</td>\n      <td>3.9653</td>\n      <td>NaN</td>\n      <td>-0.0082</td>\n    </tr>\n    <tr>\n      <th>2024-01-01</th>\n      <td>3.9369</td>\n      <td>3.9368</td>\n      <td>3.9416</td>\n      <td>3.9337</td>\n      <td>NaN</td>\n      <td>0.0010</td>\n    </tr>\n    <tr>\n      <th>2023-12-01</th>\n      <td>3.9700</td>\n      <td>4.0004</td>\n      <td>4.0119</td>\n      <td>3.9664</td>\n      <td>NaN</td>\n      <td>-0.0071</td>\n    </tr>\n    <tr>\n      <th>2023-11-01</th>\n      <td>4.2199</td>\n      <td>4.2116</td>\n      <td>4.2547</td>\n      <td>4.2038</td>\n      <td>NaN</td>\n      <td>0.0027</td>\n    </tr>\n    <tr>\n      <th>2023-09-01</th>\n      <td>4.1414</td>\n      <td>4.1262</td>\n      <td>4.1494</td>\n      <td>4.1037</td>\n      <td>NaN</td>\n      <td>0.0044</td>\n    </tr>\n  </tbody>\n</table>\n</div>"
     },
     "execution_count": 31,
     "metadata": {},
     "output_type": "execute_result"
    }
   ],
   "source": [
    "usd_day1 = usd_pln.loc[usd_pln.index.day == 1]\n",
    "usd_day1.head()"
   ]
  },
  {
   "cell_type": "code",
   "execution_count": 32,
   "id": "15388ae7",
   "metadata": {},
   "outputs": [
    {
     "data": {
      "text/plain": "            Unemployed        Close  Ostatnio\n2011-01-01   2104986.0          NaN       NaN\n2011-02-01   2150233.0  1339.599976    2.8199\n2011-03-01   2133916.0  1430.699951    2.8954\n2011-04-01   2043516.0  1428.099976    2.8224\n2011-05-01   1962587.0          NaN       NaN\n...                ...          ...       ...\n2023-11-01    773403.0  1978.800049    4.2199\n2023-12-01    788229.0  2071.000000    3.9700\n2024-01-01    837063.0          NaN    3.9369\n2024-02-01         NaN  2053.000000    3.9664\n2024-03-01         NaN  2086.899902       NaN\n\n[159 rows x 3 columns]",
      "text/html": "<div>\n<style scoped>\n    .dataframe tbody tr th:only-of-type {\n        vertical-align: middle;\n    }\n\n    .dataframe tbody tr th {\n        vertical-align: top;\n    }\n\n    .dataframe thead th {\n        text-align: right;\n    }\n</style>\n<table border=\"1\" class=\"dataframe\">\n  <thead>\n    <tr style=\"text-align: right;\">\n      <th></th>\n      <th>Unemployed</th>\n      <th>Close</th>\n      <th>Ostatnio</th>\n    </tr>\n  </thead>\n  <tbody>\n    <tr>\n      <th>2011-01-01</th>\n      <td>2104986.0</td>\n      <td>NaN</td>\n      <td>NaN</td>\n    </tr>\n    <tr>\n      <th>2011-02-01</th>\n      <td>2150233.0</td>\n      <td>1339.599976</td>\n      <td>2.8199</td>\n    </tr>\n    <tr>\n      <th>2011-03-01</th>\n      <td>2133916.0</td>\n      <td>1430.699951</td>\n      <td>2.8954</td>\n    </tr>\n    <tr>\n      <th>2011-04-01</th>\n      <td>2043516.0</td>\n      <td>1428.099976</td>\n      <td>2.8224</td>\n    </tr>\n    <tr>\n      <th>2011-05-01</th>\n      <td>1962587.0</td>\n      <td>NaN</td>\n      <td>NaN</td>\n    </tr>\n    <tr>\n      <th>...</th>\n      <td>...</td>\n      <td>...</td>\n      <td>...</td>\n    </tr>\n    <tr>\n      <th>2023-11-01</th>\n      <td>773403.0</td>\n      <td>1978.800049</td>\n      <td>4.2199</td>\n    </tr>\n    <tr>\n      <th>2023-12-01</th>\n      <td>788229.0</td>\n      <td>2071.000000</td>\n      <td>3.9700</td>\n    </tr>\n    <tr>\n      <th>2024-01-01</th>\n      <td>837063.0</td>\n      <td>NaN</td>\n      <td>3.9369</td>\n    </tr>\n    <tr>\n      <th>2024-02-01</th>\n      <td>NaN</td>\n      <td>2053.000000</td>\n      <td>3.9664</td>\n    </tr>\n    <tr>\n      <th>2024-03-01</th>\n      <td>NaN</td>\n      <td>2086.899902</td>\n      <td>NaN</td>\n    </tr>\n  </tbody>\n</table>\n<p>159 rows × 3 columns</p>\n</div>"
     },
     "execution_count": 32,
     "metadata": {},
     "output_type": "execute_result"
    }
   ],
   "source": [
    "combined = pd.concat([combined, usd_day1['Ostatnio']], axis=1)\n",
    "combined"
   ]
  },
  {
   "cell_type": "code",
   "execution_count": 33,
   "id": "3977e6c0",
   "metadata": {},
   "outputs": [
    {
     "name": "stderr",
     "output_type": "stream",
     "text": [
      "[*********************100%%**********************]  1 of 1 completed\n"
     ]
    }
   ],
   "source": [
    "import yfinance as yf\n",
    "\n",
    "# Pobranie danych historycznych z ostatnich 10 lat\n",
    "brent_oil = yf.download(\"BZ=F\", start='2011-01-01', end='2024-03-25')\n",
    "brent_oil.head()\n",
    "brent_oil.rename(columns={'Close': 'Oil (Close)'}, inplace=True)"
   ]
  },
  {
   "cell_type": "code",
   "execution_count": 34,
   "id": "0f9b23f1",
   "metadata": {},
   "outputs": [
    {
     "data": {
      "text/plain": "                  Open        High         Low  Oil (Close)   Adj Close  \\\nDate                                                                      \n2011-02-01  100.489998  102.040001  100.419998   101.739998  101.739998   \n2011-03-01  112.370003  116.699997  111.940002   115.419998  115.419998   \n2011-04-01  117.790001  118.849998  116.839996   118.699997  118.699997   \n2011-06-01  115.970001  116.160004  114.500000   114.529999  114.529999   \n2011-07-01  110.580002  111.849998  109.940002   111.769997  111.769997   \n\n            Volume  \nDate                \n2011-02-01    1352  \n2011-03-01    1160  \n2011-04-01     896  \n2011-06-01     537  \n2011-07-01     651  ",
      "text/html": "<div>\n<style scoped>\n    .dataframe tbody tr th:only-of-type {\n        vertical-align: middle;\n    }\n\n    .dataframe tbody tr th {\n        vertical-align: top;\n    }\n\n    .dataframe thead th {\n        text-align: right;\n    }\n</style>\n<table border=\"1\" class=\"dataframe\">\n  <thead>\n    <tr style=\"text-align: right;\">\n      <th></th>\n      <th>Open</th>\n      <th>High</th>\n      <th>Low</th>\n      <th>Oil (Close)</th>\n      <th>Adj Close</th>\n      <th>Volume</th>\n    </tr>\n    <tr>\n      <th>Date</th>\n      <th></th>\n      <th></th>\n      <th></th>\n      <th></th>\n      <th></th>\n      <th></th>\n    </tr>\n  </thead>\n  <tbody>\n    <tr>\n      <th>2011-02-01</th>\n      <td>100.489998</td>\n      <td>102.040001</td>\n      <td>100.419998</td>\n      <td>101.739998</td>\n      <td>101.739998</td>\n      <td>1352</td>\n    </tr>\n    <tr>\n      <th>2011-03-01</th>\n      <td>112.370003</td>\n      <td>116.699997</td>\n      <td>111.940002</td>\n      <td>115.419998</td>\n      <td>115.419998</td>\n      <td>1160</td>\n    </tr>\n    <tr>\n      <th>2011-04-01</th>\n      <td>117.790001</td>\n      <td>118.849998</td>\n      <td>116.839996</td>\n      <td>118.699997</td>\n      <td>118.699997</td>\n      <td>896</td>\n    </tr>\n    <tr>\n      <th>2011-06-01</th>\n      <td>115.970001</td>\n      <td>116.160004</td>\n      <td>114.500000</td>\n      <td>114.529999</td>\n      <td>114.529999</td>\n      <td>537</td>\n    </tr>\n    <tr>\n      <th>2011-07-01</th>\n      <td>110.580002</td>\n      <td>111.849998</td>\n      <td>109.940002</td>\n      <td>111.769997</td>\n      <td>111.769997</td>\n      <td>651</td>\n    </tr>\n  </tbody>\n</table>\n</div>"
     },
     "execution_count": 34,
     "metadata": {},
     "output_type": "execute_result"
    }
   ],
   "source": [
    "oil_day1 = brent_oil.loc[brent_oil.index.day == 1]\n",
    "oil_day1.head()"
   ]
  },
  {
   "cell_type": "code",
   "execution_count": 35,
   "id": "aa5aa197",
   "metadata": {},
   "outputs": [
    {
     "data": {
      "text/plain": "            Unemployed        Close  Ostatnio  Oil (Close)\n2011-01-01   2104986.0          NaN       NaN          NaN\n2011-02-01   2150233.0  1339.599976    2.8199   101.739998\n2011-03-01   2133916.0  1430.699951    2.8954   115.419998\n2011-04-01   2043516.0  1428.099976    2.8224   118.699997\n2011-05-01   1962587.0          NaN       NaN          NaN\n...                ...          ...       ...          ...\n2023-11-01    773403.0  1978.800049    4.2199    84.629997\n2023-12-01    788229.0  2071.000000    3.9700    78.879997\n2024-01-01    837063.0          NaN    3.9369          NaN\n2024-02-01         NaN  2053.000000    3.9664    78.699997\n2024-03-01         NaN  2086.899902       NaN    83.550003\n\n[159 rows x 4 columns]",
      "text/html": "<div>\n<style scoped>\n    .dataframe tbody tr th:only-of-type {\n        vertical-align: middle;\n    }\n\n    .dataframe tbody tr th {\n        vertical-align: top;\n    }\n\n    .dataframe thead th {\n        text-align: right;\n    }\n</style>\n<table border=\"1\" class=\"dataframe\">\n  <thead>\n    <tr style=\"text-align: right;\">\n      <th></th>\n      <th>Unemployed</th>\n      <th>Close</th>\n      <th>Ostatnio</th>\n      <th>Oil (Close)</th>\n    </tr>\n  </thead>\n  <tbody>\n    <tr>\n      <th>2011-01-01</th>\n      <td>2104986.0</td>\n      <td>NaN</td>\n      <td>NaN</td>\n      <td>NaN</td>\n    </tr>\n    <tr>\n      <th>2011-02-01</th>\n      <td>2150233.0</td>\n      <td>1339.599976</td>\n      <td>2.8199</td>\n      <td>101.739998</td>\n    </tr>\n    <tr>\n      <th>2011-03-01</th>\n      <td>2133916.0</td>\n      <td>1430.699951</td>\n      <td>2.8954</td>\n      <td>115.419998</td>\n    </tr>\n    <tr>\n      <th>2011-04-01</th>\n      <td>2043516.0</td>\n      <td>1428.099976</td>\n      <td>2.8224</td>\n      <td>118.699997</td>\n    </tr>\n    <tr>\n      <th>2011-05-01</th>\n      <td>1962587.0</td>\n      <td>NaN</td>\n      <td>NaN</td>\n      <td>NaN</td>\n    </tr>\n    <tr>\n      <th>...</th>\n      <td>...</td>\n      <td>...</td>\n      <td>...</td>\n      <td>...</td>\n    </tr>\n    <tr>\n      <th>2023-11-01</th>\n      <td>773403.0</td>\n      <td>1978.800049</td>\n      <td>4.2199</td>\n      <td>84.629997</td>\n    </tr>\n    <tr>\n      <th>2023-12-01</th>\n      <td>788229.0</td>\n      <td>2071.000000</td>\n      <td>3.9700</td>\n      <td>78.879997</td>\n    </tr>\n    <tr>\n      <th>2024-01-01</th>\n      <td>837063.0</td>\n      <td>NaN</td>\n      <td>3.9369</td>\n      <td>NaN</td>\n    </tr>\n    <tr>\n      <th>2024-02-01</th>\n      <td>NaN</td>\n      <td>2053.000000</td>\n      <td>3.9664</td>\n      <td>78.699997</td>\n    </tr>\n    <tr>\n      <th>2024-03-01</th>\n      <td>NaN</td>\n      <td>2086.899902</td>\n      <td>NaN</td>\n      <td>83.550003</td>\n    </tr>\n  </tbody>\n</table>\n<p>159 rows × 4 columns</p>\n</div>"
     },
     "execution_count": 35,
     "metadata": {},
     "output_type": "execute_result"
    }
   ],
   "source": [
    "combined = pd.concat([combined, oil_day1['Oil (Close)']], axis=1)\n",
    "combined"
   ]
  },
  {
   "cell_type": "code",
   "execution_count": 36,
   "id": "5708c7b5",
   "metadata": {},
   "outputs": [
    {
     "data": {
      "text/plain": "            Turysci\nData               \n2011-01-01  1215786\n2012-01-01  1360960\n2013-01-01  1352509\n2014-01-01  1415184\n2015-01-01  1518140",
      "text/html": "<div>\n<style scoped>\n    .dataframe tbody tr th:only-of-type {\n        vertical-align: middle;\n    }\n\n    .dataframe tbody tr th {\n        vertical-align: top;\n    }\n\n    .dataframe thead th {\n        text-align: right;\n    }\n</style>\n<table border=\"1\" class=\"dataframe\">\n  <thead>\n    <tr style=\"text-align: right;\">\n      <th></th>\n      <th>Turysci</th>\n    </tr>\n    <tr>\n      <th>Data</th>\n      <th></th>\n    </tr>\n  </thead>\n  <tbody>\n    <tr>\n      <th>2011-01-01</th>\n      <td>1215786</td>\n    </tr>\n    <tr>\n      <th>2012-01-01</th>\n      <td>1360960</td>\n    </tr>\n    <tr>\n      <th>2013-01-01</th>\n      <td>1352509</td>\n    </tr>\n    <tr>\n      <th>2014-01-01</th>\n      <td>1415184</td>\n    </tr>\n    <tr>\n      <th>2015-01-01</th>\n      <td>1518140</td>\n    </tr>\n  </tbody>\n</table>\n</div>"
     },
     "execution_count": 36,
     "metadata": {},
     "output_type": "execute_result"
    }
   ],
   "source": [
    "tourists = pd.read_csv('files/tourists_mod.csv', parse_dates=['Data'], index_col='Data')\n",
    "tourists.head()"
   ]
  },
  {
   "cell_type": "code",
   "execution_count": 37,
   "id": "2fbc7db5",
   "metadata": {},
   "outputs": [],
   "source": [
    "tourists.rename(columns={'Turysci': 'Tourists'}, inplace=True)"
   ]
  },
  {
   "cell_type": "code",
   "execution_count": 38,
   "id": "e1d52a45",
   "metadata": {},
   "outputs": [
    {
     "data": {
      "text/plain": "            Unemployed        Close  Ostatnio  Oil (Close)   Tourists\n2011-01-01   2104986.0          NaN       NaN          NaN  1215786.0\n2011-02-01   2150233.0  1339.599976    2.8199   101.739998  1232497.0\n2011-03-01   2133916.0  1430.699951    2.8954   115.419998  1449978.0\n2011-04-01   2043516.0  1428.099976    2.8224   118.699997  1510034.0\n2011-05-01   1962587.0          NaN       NaN          NaN  2006688.0\n...                ...          ...       ...          ...        ...\n2023-11-01    773403.0  1978.800049    4.2199    84.629997  2526391.0\n2023-12-01    788229.0  2071.000000    3.9700    78.879997  2472961.0\n2024-01-01    837063.0          NaN    3.9369          NaN  2232273.0\n2024-02-01         NaN  2053.000000    3.9664    78.699997        NaN\n2024-03-01         NaN  2086.899902       NaN    83.550003        NaN\n\n[159 rows x 5 columns]",
      "text/html": "<div>\n<style scoped>\n    .dataframe tbody tr th:only-of-type {\n        vertical-align: middle;\n    }\n\n    .dataframe tbody tr th {\n        vertical-align: top;\n    }\n\n    .dataframe thead th {\n        text-align: right;\n    }\n</style>\n<table border=\"1\" class=\"dataframe\">\n  <thead>\n    <tr style=\"text-align: right;\">\n      <th></th>\n      <th>Unemployed</th>\n      <th>Close</th>\n      <th>Ostatnio</th>\n      <th>Oil (Close)</th>\n      <th>Tourists</th>\n    </tr>\n  </thead>\n  <tbody>\n    <tr>\n      <th>2011-01-01</th>\n      <td>2104986.0</td>\n      <td>NaN</td>\n      <td>NaN</td>\n      <td>NaN</td>\n      <td>1215786.0</td>\n    </tr>\n    <tr>\n      <th>2011-02-01</th>\n      <td>2150233.0</td>\n      <td>1339.599976</td>\n      <td>2.8199</td>\n      <td>101.739998</td>\n      <td>1232497.0</td>\n    </tr>\n    <tr>\n      <th>2011-03-01</th>\n      <td>2133916.0</td>\n      <td>1430.699951</td>\n      <td>2.8954</td>\n      <td>115.419998</td>\n      <td>1449978.0</td>\n    </tr>\n    <tr>\n      <th>2011-04-01</th>\n      <td>2043516.0</td>\n      <td>1428.099976</td>\n      <td>2.8224</td>\n      <td>118.699997</td>\n      <td>1510034.0</td>\n    </tr>\n    <tr>\n      <th>2011-05-01</th>\n      <td>1962587.0</td>\n      <td>NaN</td>\n      <td>NaN</td>\n      <td>NaN</td>\n      <td>2006688.0</td>\n    </tr>\n    <tr>\n      <th>...</th>\n      <td>...</td>\n      <td>...</td>\n      <td>...</td>\n      <td>...</td>\n      <td>...</td>\n    </tr>\n    <tr>\n      <th>2023-11-01</th>\n      <td>773403.0</td>\n      <td>1978.800049</td>\n      <td>4.2199</td>\n      <td>84.629997</td>\n      <td>2526391.0</td>\n    </tr>\n    <tr>\n      <th>2023-12-01</th>\n      <td>788229.0</td>\n      <td>2071.000000</td>\n      <td>3.9700</td>\n      <td>78.879997</td>\n      <td>2472961.0</td>\n    </tr>\n    <tr>\n      <th>2024-01-01</th>\n      <td>837063.0</td>\n      <td>NaN</td>\n      <td>3.9369</td>\n      <td>NaN</td>\n      <td>2232273.0</td>\n    </tr>\n    <tr>\n      <th>2024-02-01</th>\n      <td>NaN</td>\n      <td>2053.000000</td>\n      <td>3.9664</td>\n      <td>78.699997</td>\n      <td>NaN</td>\n    </tr>\n    <tr>\n      <th>2024-03-01</th>\n      <td>NaN</td>\n      <td>2086.899902</td>\n      <td>NaN</td>\n      <td>83.550003</td>\n      <td>NaN</td>\n    </tr>\n  </tbody>\n</table>\n<p>159 rows × 5 columns</p>\n</div>"
     },
     "execution_count": 38,
     "metadata": {},
     "output_type": "execute_result"
    }
   ],
   "source": [
    "combined = pd.concat([combined, tourists['Tourists']], axis=1)\n",
    "combined"
   ]
  },
  {
   "cell_type": "code",
   "execution_count": 39,
   "id": "d9477c33",
   "metadata": {
    "collapsed": false
   },
   "outputs": [
    {
     "data": {
      "text/plain": "             Cars\nData             \n2011-01-01  67610\n2011-02-01  67610\n2011-03-01  67610\n2012-01-01  77577\n2012-02-01  77577",
      "text/html": "<div>\n<style scoped>\n    .dataframe tbody tr th:only-of-type {\n        vertical-align: middle;\n    }\n\n    .dataframe tbody tr th {\n        vertical-align: top;\n    }\n\n    .dataframe thead th {\n        text-align: right;\n    }\n</style>\n<table border=\"1\" class=\"dataframe\">\n  <thead>\n    <tr style=\"text-align: right;\">\n      <th></th>\n      <th>Cars</th>\n    </tr>\n    <tr>\n      <th>Data</th>\n      <th></th>\n    </tr>\n  </thead>\n  <tbody>\n    <tr>\n      <th>2011-01-01</th>\n      <td>67610</td>\n    </tr>\n    <tr>\n      <th>2011-02-01</th>\n      <td>67610</td>\n    </tr>\n    <tr>\n      <th>2011-03-01</th>\n      <td>67610</td>\n    </tr>\n    <tr>\n      <th>2012-01-01</th>\n      <td>77577</td>\n    </tr>\n    <tr>\n      <th>2012-02-01</th>\n      <td>77577</td>\n    </tr>\n  </tbody>\n</table>\n</div>"
     },
     "execution_count": 39,
     "metadata": {},
     "output_type": "execute_result"
    }
   ],
   "source": [
    "cars = pd.read_csv('files/cars_mod.csv', parse_dates=['Data'], index_col='Data')\n",
    "cars.head()"
   ]
  },
  {
   "cell_type": "code",
   "execution_count": 40,
   "id": "64e09593",
   "metadata": {
    "collapsed": false
   },
   "outputs": [
    {
     "data": {
      "text/plain": "            Unemployed        Close  Ostatnio  Oil (Close)   Tourists  \\\n2011-01-01   2104986.0          NaN       NaN          NaN  1215786.0   \n2011-02-01   2150233.0  1339.599976    2.8199   101.739998  1232497.0   \n2011-03-01   2133916.0  1430.699951    2.8954   115.419998  1449978.0   \n2011-04-01   2043516.0  1428.099976    2.8224   118.699997  1510034.0   \n2011-05-01   1962587.0          NaN       NaN          NaN  2006688.0   \n...                ...          ...       ...          ...        ...   \n2023-11-01    773403.0  1978.800049    4.2199    84.629997  2526391.0   \n2023-12-01    788229.0  2071.000000    3.9700    78.879997  2472961.0   \n2024-01-01    837063.0          NaN    3.9369          NaN  2232273.0   \n2024-02-01         NaN  2053.000000    3.9664    78.699997        NaN   \n2024-03-01         NaN  2086.899902       NaN    83.550003        NaN   \n\n                Cars  \n2011-01-01   67610.0  \n2011-02-01   67610.0  \n2011-03-01   67610.0  \n2011-04-01   69213.0  \n2011-05-01   69213.0  \n...              ...  \n2023-11-01  125273.0  \n2023-12-01  125273.0  \n2024-01-01       NaN  \n2024-02-01       NaN  \n2024-03-01       NaN  \n\n[159 rows x 6 columns]",
      "text/html": "<div>\n<style scoped>\n    .dataframe tbody tr th:only-of-type {\n        vertical-align: middle;\n    }\n\n    .dataframe tbody tr th {\n        vertical-align: top;\n    }\n\n    .dataframe thead th {\n        text-align: right;\n    }\n</style>\n<table border=\"1\" class=\"dataframe\">\n  <thead>\n    <tr style=\"text-align: right;\">\n      <th></th>\n      <th>Unemployed</th>\n      <th>Close</th>\n      <th>Ostatnio</th>\n      <th>Oil (Close)</th>\n      <th>Tourists</th>\n      <th>Cars</th>\n    </tr>\n  </thead>\n  <tbody>\n    <tr>\n      <th>2011-01-01</th>\n      <td>2104986.0</td>\n      <td>NaN</td>\n      <td>NaN</td>\n      <td>NaN</td>\n      <td>1215786.0</td>\n      <td>67610.0</td>\n    </tr>\n    <tr>\n      <th>2011-02-01</th>\n      <td>2150233.0</td>\n      <td>1339.599976</td>\n      <td>2.8199</td>\n      <td>101.739998</td>\n      <td>1232497.0</td>\n      <td>67610.0</td>\n    </tr>\n    <tr>\n      <th>2011-03-01</th>\n      <td>2133916.0</td>\n      <td>1430.699951</td>\n      <td>2.8954</td>\n      <td>115.419998</td>\n      <td>1449978.0</td>\n      <td>67610.0</td>\n    </tr>\n    <tr>\n      <th>2011-04-01</th>\n      <td>2043516.0</td>\n      <td>1428.099976</td>\n      <td>2.8224</td>\n      <td>118.699997</td>\n      <td>1510034.0</td>\n      <td>69213.0</td>\n    </tr>\n    <tr>\n      <th>2011-05-01</th>\n      <td>1962587.0</td>\n      <td>NaN</td>\n      <td>NaN</td>\n      <td>NaN</td>\n      <td>2006688.0</td>\n      <td>69213.0</td>\n    </tr>\n    <tr>\n      <th>...</th>\n      <td>...</td>\n      <td>...</td>\n      <td>...</td>\n      <td>...</td>\n      <td>...</td>\n      <td>...</td>\n    </tr>\n    <tr>\n      <th>2023-11-01</th>\n      <td>773403.0</td>\n      <td>1978.800049</td>\n      <td>4.2199</td>\n      <td>84.629997</td>\n      <td>2526391.0</td>\n      <td>125273.0</td>\n    </tr>\n    <tr>\n      <th>2023-12-01</th>\n      <td>788229.0</td>\n      <td>2071.000000</td>\n      <td>3.9700</td>\n      <td>78.879997</td>\n      <td>2472961.0</td>\n      <td>125273.0</td>\n    </tr>\n    <tr>\n      <th>2024-01-01</th>\n      <td>837063.0</td>\n      <td>NaN</td>\n      <td>3.9369</td>\n      <td>NaN</td>\n      <td>2232273.0</td>\n      <td>NaN</td>\n    </tr>\n    <tr>\n      <th>2024-02-01</th>\n      <td>NaN</td>\n      <td>2053.000000</td>\n      <td>3.9664</td>\n      <td>78.699997</td>\n      <td>NaN</td>\n      <td>NaN</td>\n    </tr>\n    <tr>\n      <th>2024-03-01</th>\n      <td>NaN</td>\n      <td>2086.899902</td>\n      <td>NaN</td>\n      <td>83.550003</td>\n      <td>NaN</td>\n      <td>NaN</td>\n    </tr>\n  </tbody>\n</table>\n<p>159 rows × 6 columns</p>\n</div>"
     },
     "execution_count": 40,
     "metadata": {},
     "output_type": "execute_result"
    }
   ],
   "source": [
    "combined = pd.concat([combined, cars['Cars']], axis=1)\n",
    "combined"
   ]
  },
  {
   "cell_type": "code",
   "execution_count": 41,
   "id": "99f9308b",
   "metadata": {},
   "outputs": [
    {
     "data": {
      "text/plain": "            ImportExport\ndate                    \n2011-01-01        108.41\n2011-02-01        110.28\n2011-03-01        112.79\n2011-04-01        111.05\n2011-05-01        106.81",
      "text/html": "<div>\n<style scoped>\n    .dataframe tbody tr th:only-of-type {\n        vertical-align: middle;\n    }\n\n    .dataframe tbody tr th {\n        vertical-align: top;\n    }\n\n    .dataframe thead th {\n        text-align: right;\n    }\n</style>\n<table border=\"1\" class=\"dataframe\">\n  <thead>\n    <tr style=\"text-align: right;\">\n      <th></th>\n      <th>ImportExport</th>\n    </tr>\n    <tr>\n      <th>date</th>\n      <th></th>\n    </tr>\n  </thead>\n  <tbody>\n    <tr>\n      <th>2011-01-01</th>\n      <td>108.41</td>\n    </tr>\n    <tr>\n      <th>2011-02-01</th>\n      <td>110.28</td>\n    </tr>\n    <tr>\n      <th>2011-03-01</th>\n      <td>112.79</td>\n    </tr>\n    <tr>\n      <th>2011-04-01</th>\n      <td>111.05</td>\n    </tr>\n    <tr>\n      <th>2011-05-01</th>\n      <td>106.81</td>\n    </tr>\n  </tbody>\n</table>\n</div>"
     },
     "execution_count": 41,
     "metadata": {},
     "output_type": "execute_result"
    }
   ],
   "source": [
    "exp = pd.read_csv('files/import_export.csv', sep=',')\n",
    "exp['date'] = pd.to_datetime(exp['date'], format='%Y-%m-%d')\n",
    "exp['value'] = exp['value'].astype('float')\n",
    "exp.set_index('date', inplace=True)\n",
    "exp.rename({'value': 'ImportExport'}, inplace=True, axis=1)\n",
    "exp.head()"
   ]
  },
  {
   "cell_type": "code",
   "execution_count": 42,
   "id": "46e33bb6",
   "metadata": {},
   "outputs": [
    {
     "data": {
      "text/plain": "            IndustryProd\ndate                    \n2011-01-01         109.7\n2011-02-01         110.5\n2011-03-01         106.2\n2011-04-01         106.5\n2011-05-01         107.9",
      "text/html": "<div>\n<style scoped>\n    .dataframe tbody tr th:only-of-type {\n        vertical-align: middle;\n    }\n\n    .dataframe tbody tr th {\n        vertical-align: top;\n    }\n\n    .dataframe thead th {\n        text-align: right;\n    }\n</style>\n<table border=\"1\" class=\"dataframe\">\n  <thead>\n    <tr style=\"text-align: right;\">\n      <th></th>\n      <th>IndustryProd</th>\n    </tr>\n    <tr>\n      <th>date</th>\n      <th></th>\n    </tr>\n  </thead>\n  <tbody>\n    <tr>\n      <th>2011-01-01</th>\n      <td>109.7</td>\n    </tr>\n    <tr>\n      <th>2011-02-01</th>\n      <td>110.5</td>\n    </tr>\n    <tr>\n      <th>2011-03-01</th>\n      <td>106.2</td>\n    </tr>\n    <tr>\n      <th>2011-04-01</th>\n      <td>106.5</td>\n    </tr>\n    <tr>\n      <th>2011-05-01</th>\n      <td>107.9</td>\n    </tr>\n  </tbody>\n</table>\n</div>"
     },
     "execution_count": 42,
     "metadata": {},
     "output_type": "execute_result"
    }
   ],
   "source": [
    "ind_prod = pd.read_csv('files/industry_prod.csv', sep=',')\n",
    "ind_prod['date'] = pd.to_datetime(ind_prod['date'], format='%Y-%m-%d')\n",
    "ind_prod['value'] = ind_prod['value'].astype('float')\n",
    "ind_prod.set_index('date', inplace=True)\n",
    "ind_prod.rename({'value': 'IndustryProd'}, inplace=True, axis=1)\n",
    "ind_prod.head()"
   ]
  },
  {
   "cell_type": "code",
   "execution_count": 43,
   "id": "6fab185d",
   "metadata": {},
   "outputs": [
    {
     "data": {
      "text/plain": "            CommerceInvest\ndate                      \n2011-01-01            11.0\n2011-02-01            13.7\n2011-03-01            15.1\n2011-04-01            19.3\n2011-05-01            17.0",
      "text/html": "<div>\n<style scoped>\n    .dataframe tbody tr th:only-of-type {\n        vertical-align: middle;\n    }\n\n    .dataframe tbody tr th {\n        vertical-align: top;\n    }\n\n    .dataframe thead th {\n        text-align: right;\n    }\n</style>\n<table border=\"1\" class=\"dataframe\">\n  <thead>\n    <tr style=\"text-align: right;\">\n      <th></th>\n      <th>CommerceInvest</th>\n    </tr>\n    <tr>\n      <th>date</th>\n      <th></th>\n    </tr>\n  </thead>\n  <tbody>\n    <tr>\n      <th>2011-01-01</th>\n      <td>11.0</td>\n    </tr>\n    <tr>\n      <th>2011-02-01</th>\n      <td>13.7</td>\n    </tr>\n    <tr>\n      <th>2011-03-01</th>\n      <td>15.1</td>\n    </tr>\n    <tr>\n      <th>2011-04-01</th>\n      <td>19.3</td>\n    </tr>\n    <tr>\n      <th>2011-05-01</th>\n      <td>17.0</td>\n    </tr>\n  </tbody>\n</table>\n</div>"
     },
     "execution_count": 43,
     "metadata": {},
     "output_type": "execute_result"
    }
   ],
   "source": [
    "commerce = pd.read_csv('files/commerce_investments.csv', sep=',')\n",
    "commerce['date'] = pd.to_datetime(commerce['date'], format='%Y-%m-%d')\n",
    "commerce['value'] = commerce['value'].astype('float')\n",
    "commerce.set_index('date', inplace=True)\n",
    "commerce.rename({'value': 'CommerceInvest'}, inplace=True, axis=1)\n",
    "commerce.head()"
   ]
  },
  {
   "cell_type": "code",
   "execution_count": 44,
   "id": "989f9f78",
   "metadata": {},
   "outputs": [
    {
     "data": {
      "text/plain": "            Unemployed        Close  Ostatnio  Oil (Close)   Tourists  \\\n2011-01-01   2104986.0          NaN       NaN          NaN  1215786.0   \n2011-02-01   2150233.0  1339.599976    2.8199   101.739998  1232497.0   \n2011-03-01   2133916.0  1430.699951    2.8954   115.419998  1449978.0   \n2011-04-01   2043516.0  1428.099976    2.8224   118.699997  1510034.0   \n2011-05-01   1962587.0          NaN       NaN          NaN  2006688.0   \n...                ...          ...       ...          ...        ...   \n2023-11-01    773403.0  1978.800049    4.2199    84.629997  2526391.0   \n2023-12-01    788229.0  2071.000000    3.9700    78.879997  2472961.0   \n2024-01-01    837063.0          NaN    3.9369          NaN  2232273.0   \n2024-02-01         NaN  2053.000000    3.9664    78.699997        NaN   \n2024-03-01         NaN  2086.899902       NaN    83.550003        NaN   \n\n                Cars  ImportExport  IndustryProd  CommerceInvest  \n2011-01-01   67610.0        108.41         109.7            11.0  \n2011-02-01   67610.0        110.28         110.5            13.7  \n2011-03-01   67610.0        112.79         106.2            15.1  \n2011-04-01   69213.0        111.05         106.5            19.3  \n2011-05-01   69213.0        106.81         107.9            17.0  \n...              ...           ...           ...             ...  \n2023-11-01  125273.0         91.56          99.7             4.9  \n2023-12-01  125273.0         91.06          96.5             2.4  \n2024-01-01       NaN           NaN           NaN             NaN  \n2024-02-01       NaN           NaN           NaN             NaN  \n2024-03-01       NaN           NaN           NaN             NaN  \n\n[159 rows x 9 columns]",
      "text/html": "<div>\n<style scoped>\n    .dataframe tbody tr th:only-of-type {\n        vertical-align: middle;\n    }\n\n    .dataframe tbody tr th {\n        vertical-align: top;\n    }\n\n    .dataframe thead th {\n        text-align: right;\n    }\n</style>\n<table border=\"1\" class=\"dataframe\">\n  <thead>\n    <tr style=\"text-align: right;\">\n      <th></th>\n      <th>Unemployed</th>\n      <th>Close</th>\n      <th>Ostatnio</th>\n      <th>Oil (Close)</th>\n      <th>Tourists</th>\n      <th>Cars</th>\n      <th>ImportExport</th>\n      <th>IndustryProd</th>\n      <th>CommerceInvest</th>\n    </tr>\n  </thead>\n  <tbody>\n    <tr>\n      <th>2011-01-01</th>\n      <td>2104986.0</td>\n      <td>NaN</td>\n      <td>NaN</td>\n      <td>NaN</td>\n      <td>1215786.0</td>\n      <td>67610.0</td>\n      <td>108.41</td>\n      <td>109.7</td>\n      <td>11.0</td>\n    </tr>\n    <tr>\n      <th>2011-02-01</th>\n      <td>2150233.0</td>\n      <td>1339.599976</td>\n      <td>2.8199</td>\n      <td>101.739998</td>\n      <td>1232497.0</td>\n      <td>67610.0</td>\n      <td>110.28</td>\n      <td>110.5</td>\n      <td>13.7</td>\n    </tr>\n    <tr>\n      <th>2011-03-01</th>\n      <td>2133916.0</td>\n      <td>1430.699951</td>\n      <td>2.8954</td>\n      <td>115.419998</td>\n      <td>1449978.0</td>\n      <td>67610.0</td>\n      <td>112.79</td>\n      <td>106.2</td>\n      <td>15.1</td>\n    </tr>\n    <tr>\n      <th>2011-04-01</th>\n      <td>2043516.0</td>\n      <td>1428.099976</td>\n      <td>2.8224</td>\n      <td>118.699997</td>\n      <td>1510034.0</td>\n      <td>69213.0</td>\n      <td>111.05</td>\n      <td>106.5</td>\n      <td>19.3</td>\n    </tr>\n    <tr>\n      <th>2011-05-01</th>\n      <td>1962587.0</td>\n      <td>NaN</td>\n      <td>NaN</td>\n      <td>NaN</td>\n      <td>2006688.0</td>\n      <td>69213.0</td>\n      <td>106.81</td>\n      <td>107.9</td>\n      <td>17.0</td>\n    </tr>\n    <tr>\n      <th>...</th>\n      <td>...</td>\n      <td>...</td>\n      <td>...</td>\n      <td>...</td>\n      <td>...</td>\n      <td>...</td>\n      <td>...</td>\n      <td>...</td>\n      <td>...</td>\n    </tr>\n    <tr>\n      <th>2023-11-01</th>\n      <td>773403.0</td>\n      <td>1978.800049</td>\n      <td>4.2199</td>\n      <td>84.629997</td>\n      <td>2526391.0</td>\n      <td>125273.0</td>\n      <td>91.56</td>\n      <td>99.7</td>\n      <td>4.9</td>\n    </tr>\n    <tr>\n      <th>2023-12-01</th>\n      <td>788229.0</td>\n      <td>2071.000000</td>\n      <td>3.9700</td>\n      <td>78.879997</td>\n      <td>2472961.0</td>\n      <td>125273.0</td>\n      <td>91.06</td>\n      <td>96.5</td>\n      <td>2.4</td>\n    </tr>\n    <tr>\n      <th>2024-01-01</th>\n      <td>837063.0</td>\n      <td>NaN</td>\n      <td>3.9369</td>\n      <td>NaN</td>\n      <td>2232273.0</td>\n      <td>NaN</td>\n      <td>NaN</td>\n      <td>NaN</td>\n      <td>NaN</td>\n    </tr>\n    <tr>\n      <th>2024-02-01</th>\n      <td>NaN</td>\n      <td>2053.000000</td>\n      <td>3.9664</td>\n      <td>78.699997</td>\n      <td>NaN</td>\n      <td>NaN</td>\n      <td>NaN</td>\n      <td>NaN</td>\n      <td>NaN</td>\n    </tr>\n    <tr>\n      <th>2024-03-01</th>\n      <td>NaN</td>\n      <td>2086.899902</td>\n      <td>NaN</td>\n      <td>83.550003</td>\n      <td>NaN</td>\n      <td>NaN</td>\n      <td>NaN</td>\n      <td>NaN</td>\n      <td>NaN</td>\n    </tr>\n  </tbody>\n</table>\n<p>159 rows × 9 columns</p>\n</div>"
     },
     "execution_count": 44,
     "metadata": {},
     "output_type": "execute_result"
    }
   ],
   "source": [
    "combined = pd.concat([combined, exp['ImportExport'], ind_prod['IndustryProd'], commerce['CommerceInvest']], axis=1)\n",
    "combined"
   ]
  },
  {
   "cell_type": "code",
   "execution_count": 45,
   "outputs": [
    {
     "data": {
      "text/plain": "            Inflation\nData                 \n2024-01-01        3.7\n2024-02-01        2.8\n2024-03-01        2.0\n2023-01-01       16.6\n2023-02-01       18.4",
      "text/html": "<div>\n<style scoped>\n    .dataframe tbody tr th:only-of-type {\n        vertical-align: middle;\n    }\n\n    .dataframe tbody tr th {\n        vertical-align: top;\n    }\n\n    .dataframe thead th {\n        text-align: right;\n    }\n</style>\n<table border=\"1\" class=\"dataframe\">\n  <thead>\n    <tr style=\"text-align: right;\">\n      <th></th>\n      <th>Inflation</th>\n    </tr>\n    <tr>\n      <th>Data</th>\n      <th></th>\n    </tr>\n  </thead>\n  <tbody>\n    <tr>\n      <th>2024-01-01</th>\n      <td>3.7</td>\n    </tr>\n    <tr>\n      <th>2024-02-01</th>\n      <td>2.8</td>\n    </tr>\n    <tr>\n      <th>2024-03-01</th>\n      <td>2.0</td>\n    </tr>\n    <tr>\n      <th>2023-01-01</th>\n      <td>16.6</td>\n    </tr>\n    <tr>\n      <th>2023-02-01</th>\n      <td>18.4</td>\n    </tr>\n  </tbody>\n</table>\n</div>"
     },
     "execution_count": 45,
     "metadata": {},
     "output_type": "execute_result"
    }
   ],
   "source": [
    "inflation = pd.read_csv('files/inflationmod.csv', parse_dates=['Data'], index_col='Data')\n",
    "inflation.rename(columns={'Inflacja': 'Inflation'}, inplace=True)\n",
    "inflation.head()"
   ],
   "metadata": {
    "collapsed": false
   }
  },
  {
   "cell_type": "code",
   "execution_count": 46,
   "outputs": [
    {
     "data": {
      "text/plain": "            Unemployed        Close  Ostatnio  Oil (Close)   Tourists  \\\n2011-01-01   2104986.0          NaN       NaN          NaN  1215786.0   \n2011-02-01   2150233.0  1339.599976    2.8199   101.739998  1232497.0   \n2011-03-01   2133916.0  1430.699951    2.8954   115.419998  1449978.0   \n2011-04-01   2043516.0  1428.099976    2.8224   118.699997  1510034.0   \n2011-05-01   1962587.0          NaN       NaN          NaN  2006688.0   \n...                ...          ...       ...          ...        ...   \n2023-11-01    773403.0  1978.800049    4.2199    84.629997  2526391.0   \n2023-12-01    788229.0  2071.000000    3.9700    78.879997  2472961.0   \n2024-01-01    837063.0          NaN    3.9369          NaN  2232273.0   \n2024-02-01         NaN  2053.000000    3.9664    78.699997        NaN   \n2024-03-01         NaN  2086.899902       NaN    83.550003        NaN   \n\n                Cars  ImportExport  IndustryProd  CommerceInvest  Inflation  \n2011-01-01   67610.0        108.41         109.7            11.0        3.6  \n2011-02-01   67610.0        110.28         110.5            13.7        3.6  \n2011-03-01   67610.0        112.79         106.2            15.1        4.3  \n2011-04-01   69213.0        111.05         106.5            19.3        4.5  \n2011-05-01   69213.0        106.81         107.9            17.0        5.0  \n...              ...           ...           ...             ...        ...  \n2023-11-01  125273.0         91.56          99.7             4.9        6.6  \n2023-12-01  125273.0         91.06          96.5             2.4        6.2  \n2024-01-01       NaN           NaN           NaN             NaN        3.7  \n2024-02-01       NaN           NaN           NaN             NaN        2.8  \n2024-03-01       NaN           NaN           NaN             NaN        2.0  \n\n[159 rows x 10 columns]",
      "text/html": "<div>\n<style scoped>\n    .dataframe tbody tr th:only-of-type {\n        vertical-align: middle;\n    }\n\n    .dataframe tbody tr th {\n        vertical-align: top;\n    }\n\n    .dataframe thead th {\n        text-align: right;\n    }\n</style>\n<table border=\"1\" class=\"dataframe\">\n  <thead>\n    <tr style=\"text-align: right;\">\n      <th></th>\n      <th>Unemployed</th>\n      <th>Close</th>\n      <th>Ostatnio</th>\n      <th>Oil (Close)</th>\n      <th>Tourists</th>\n      <th>Cars</th>\n      <th>ImportExport</th>\n      <th>IndustryProd</th>\n      <th>CommerceInvest</th>\n      <th>Inflation</th>\n    </tr>\n  </thead>\n  <tbody>\n    <tr>\n      <th>2011-01-01</th>\n      <td>2104986.0</td>\n      <td>NaN</td>\n      <td>NaN</td>\n      <td>NaN</td>\n      <td>1215786.0</td>\n      <td>67610.0</td>\n      <td>108.41</td>\n      <td>109.7</td>\n      <td>11.0</td>\n      <td>3.6</td>\n    </tr>\n    <tr>\n      <th>2011-02-01</th>\n      <td>2150233.0</td>\n      <td>1339.599976</td>\n      <td>2.8199</td>\n      <td>101.739998</td>\n      <td>1232497.0</td>\n      <td>67610.0</td>\n      <td>110.28</td>\n      <td>110.5</td>\n      <td>13.7</td>\n      <td>3.6</td>\n    </tr>\n    <tr>\n      <th>2011-03-01</th>\n      <td>2133916.0</td>\n      <td>1430.699951</td>\n      <td>2.8954</td>\n      <td>115.419998</td>\n      <td>1449978.0</td>\n      <td>67610.0</td>\n      <td>112.79</td>\n      <td>106.2</td>\n      <td>15.1</td>\n      <td>4.3</td>\n    </tr>\n    <tr>\n      <th>2011-04-01</th>\n      <td>2043516.0</td>\n      <td>1428.099976</td>\n      <td>2.8224</td>\n      <td>118.699997</td>\n      <td>1510034.0</td>\n      <td>69213.0</td>\n      <td>111.05</td>\n      <td>106.5</td>\n      <td>19.3</td>\n      <td>4.5</td>\n    </tr>\n    <tr>\n      <th>2011-05-01</th>\n      <td>1962587.0</td>\n      <td>NaN</td>\n      <td>NaN</td>\n      <td>NaN</td>\n      <td>2006688.0</td>\n      <td>69213.0</td>\n      <td>106.81</td>\n      <td>107.9</td>\n      <td>17.0</td>\n      <td>5.0</td>\n    </tr>\n    <tr>\n      <th>...</th>\n      <td>...</td>\n      <td>...</td>\n      <td>...</td>\n      <td>...</td>\n      <td>...</td>\n      <td>...</td>\n      <td>...</td>\n      <td>...</td>\n      <td>...</td>\n      <td>...</td>\n    </tr>\n    <tr>\n      <th>2023-11-01</th>\n      <td>773403.0</td>\n      <td>1978.800049</td>\n      <td>4.2199</td>\n      <td>84.629997</td>\n      <td>2526391.0</td>\n      <td>125273.0</td>\n      <td>91.56</td>\n      <td>99.7</td>\n      <td>4.9</td>\n      <td>6.6</td>\n    </tr>\n    <tr>\n      <th>2023-12-01</th>\n      <td>788229.0</td>\n      <td>2071.000000</td>\n      <td>3.9700</td>\n      <td>78.879997</td>\n      <td>2472961.0</td>\n      <td>125273.0</td>\n      <td>91.06</td>\n      <td>96.5</td>\n      <td>2.4</td>\n      <td>6.2</td>\n    </tr>\n    <tr>\n      <th>2024-01-01</th>\n      <td>837063.0</td>\n      <td>NaN</td>\n      <td>3.9369</td>\n      <td>NaN</td>\n      <td>2232273.0</td>\n      <td>NaN</td>\n      <td>NaN</td>\n      <td>NaN</td>\n      <td>NaN</td>\n      <td>3.7</td>\n    </tr>\n    <tr>\n      <th>2024-02-01</th>\n      <td>NaN</td>\n      <td>2053.000000</td>\n      <td>3.9664</td>\n      <td>78.699997</td>\n      <td>NaN</td>\n      <td>NaN</td>\n      <td>NaN</td>\n      <td>NaN</td>\n      <td>NaN</td>\n      <td>2.8</td>\n    </tr>\n    <tr>\n      <th>2024-03-01</th>\n      <td>NaN</td>\n      <td>2086.899902</td>\n      <td>NaN</td>\n      <td>83.550003</td>\n      <td>NaN</td>\n      <td>NaN</td>\n      <td>NaN</td>\n      <td>NaN</td>\n      <td>NaN</td>\n      <td>2.0</td>\n    </tr>\n  </tbody>\n</table>\n<p>159 rows × 10 columns</p>\n</div>"
     },
     "execution_count": 46,
     "metadata": {},
     "output_type": "execute_result"
    }
   ],
   "source": [
    "combined = pd.concat([combined, inflation['Inflation']], axis=1)\n",
    "combined"
   ],
   "metadata": {
    "collapsed": false
   }
  },
  {
   "cell_type": "code",
   "execution_count": 47,
   "id": "f41b8fdf",
   "metadata": {},
   "outputs": [],
   "source": [
    "combined.rename(columns={'Close': 'Gold (Close)', 'Ostatnio': 'USD (Close)'}, inplace=True)"
   ]
  },
  {
   "cell_type": "code",
   "execution_count": 48,
   "id": "8de836ca",
   "metadata": {},
   "outputs": [
    {
     "data": {
      "text/plain": "            Unemployed  Gold (Close)  USD (Close)  Oil (Close)   Tourists  \\\n2011-02-01   2150233.0   1339.599976       2.8199   101.739998  1232497.0   \n2011-03-01   2133916.0   1430.699951       2.8954   115.419998  1449978.0   \n2011-04-01   2043516.0   1428.099976       2.8224   118.699997  1510034.0   \n2011-05-01   1962587.0           NaN          NaN          NaN  2006688.0   \n2011-06-01   1883299.0   1542.400024       2.7660   114.529999  2254963.0   \n...                ...           ...          ...          ...        ...   \n2023-09-01    775987.0   1939.800049       4.1414    88.550003  3568440.0   \n2023-10-01    770446.0           NaN          NaN          NaN  2983069.0   \n2023-11-01    773403.0   1978.800049       4.2199    84.629997  2526391.0   \n2023-12-01    788229.0   2071.000000       3.9700    78.879997  2472961.0   \n2024-01-01    837063.0           NaN       3.9369          NaN  2232273.0   \n\n                Cars  ImportExport  IndustryProd  CommerceInvest  Inflation  \n2011-02-01   67610.0        110.28         110.5            13.7        3.6  \n2011-03-01   67610.0        112.79         106.2            15.1        4.3  \n2011-04-01   69213.0        111.05         106.5            19.3        4.5  \n2011-05-01   69213.0        106.81         107.9            17.0        5.0  \n2011-06-01   69213.0        105.07         102.5            20.0        4.2  \n...              ...           ...           ...             ...        ...  \n2023-09-01  112282.0         92.46          96.7             4.9        8.2  \n2023-10-01  125273.0         92.53         102.0             7.4        6.6  \n2023-11-01  125273.0         91.56          99.7             4.9        6.6  \n2023-12-01  125273.0         91.06          96.5             2.4        6.2  \n2024-01-01       NaN           NaN           NaN             NaN        3.7  \n\n[156 rows x 10 columns]",
      "text/html": "<div>\n<style scoped>\n    .dataframe tbody tr th:only-of-type {\n        vertical-align: middle;\n    }\n\n    .dataframe tbody tr th {\n        vertical-align: top;\n    }\n\n    .dataframe thead th {\n        text-align: right;\n    }\n</style>\n<table border=\"1\" class=\"dataframe\">\n  <thead>\n    <tr style=\"text-align: right;\">\n      <th></th>\n      <th>Unemployed</th>\n      <th>Gold (Close)</th>\n      <th>USD (Close)</th>\n      <th>Oil (Close)</th>\n      <th>Tourists</th>\n      <th>Cars</th>\n      <th>ImportExport</th>\n      <th>IndustryProd</th>\n      <th>CommerceInvest</th>\n      <th>Inflation</th>\n    </tr>\n  </thead>\n  <tbody>\n    <tr>\n      <th>2011-02-01</th>\n      <td>2150233.0</td>\n      <td>1339.599976</td>\n      <td>2.8199</td>\n      <td>101.739998</td>\n      <td>1232497.0</td>\n      <td>67610.0</td>\n      <td>110.28</td>\n      <td>110.5</td>\n      <td>13.7</td>\n      <td>3.6</td>\n    </tr>\n    <tr>\n      <th>2011-03-01</th>\n      <td>2133916.0</td>\n      <td>1430.699951</td>\n      <td>2.8954</td>\n      <td>115.419998</td>\n      <td>1449978.0</td>\n      <td>67610.0</td>\n      <td>112.79</td>\n      <td>106.2</td>\n      <td>15.1</td>\n      <td>4.3</td>\n    </tr>\n    <tr>\n      <th>2011-04-01</th>\n      <td>2043516.0</td>\n      <td>1428.099976</td>\n      <td>2.8224</td>\n      <td>118.699997</td>\n      <td>1510034.0</td>\n      <td>69213.0</td>\n      <td>111.05</td>\n      <td>106.5</td>\n      <td>19.3</td>\n      <td>4.5</td>\n    </tr>\n    <tr>\n      <th>2011-05-01</th>\n      <td>1962587.0</td>\n      <td>NaN</td>\n      <td>NaN</td>\n      <td>NaN</td>\n      <td>2006688.0</td>\n      <td>69213.0</td>\n      <td>106.81</td>\n      <td>107.9</td>\n      <td>17.0</td>\n      <td>5.0</td>\n    </tr>\n    <tr>\n      <th>2011-06-01</th>\n      <td>1883299.0</td>\n      <td>1542.400024</td>\n      <td>2.7660</td>\n      <td>114.529999</td>\n      <td>2254963.0</td>\n      <td>69213.0</td>\n      <td>105.07</td>\n      <td>102.5</td>\n      <td>20.0</td>\n      <td>4.2</td>\n    </tr>\n    <tr>\n      <th>...</th>\n      <td>...</td>\n      <td>...</td>\n      <td>...</td>\n      <td>...</td>\n      <td>...</td>\n      <td>...</td>\n      <td>...</td>\n      <td>...</td>\n      <td>...</td>\n      <td>...</td>\n    </tr>\n    <tr>\n      <th>2023-09-01</th>\n      <td>775987.0</td>\n      <td>1939.800049</td>\n      <td>4.1414</td>\n      <td>88.550003</td>\n      <td>3568440.0</td>\n      <td>112282.0</td>\n      <td>92.46</td>\n      <td>96.7</td>\n      <td>4.9</td>\n      <td>8.2</td>\n    </tr>\n    <tr>\n      <th>2023-10-01</th>\n      <td>770446.0</td>\n      <td>NaN</td>\n      <td>NaN</td>\n      <td>NaN</td>\n      <td>2983069.0</td>\n      <td>125273.0</td>\n      <td>92.53</td>\n      <td>102.0</td>\n      <td>7.4</td>\n      <td>6.6</td>\n    </tr>\n    <tr>\n      <th>2023-11-01</th>\n      <td>773403.0</td>\n      <td>1978.800049</td>\n      <td>4.2199</td>\n      <td>84.629997</td>\n      <td>2526391.0</td>\n      <td>125273.0</td>\n      <td>91.56</td>\n      <td>99.7</td>\n      <td>4.9</td>\n      <td>6.6</td>\n    </tr>\n    <tr>\n      <th>2023-12-01</th>\n      <td>788229.0</td>\n      <td>2071.000000</td>\n      <td>3.9700</td>\n      <td>78.879997</td>\n      <td>2472961.0</td>\n      <td>125273.0</td>\n      <td>91.06</td>\n      <td>96.5</td>\n      <td>2.4</td>\n      <td>6.2</td>\n    </tr>\n    <tr>\n      <th>2024-01-01</th>\n      <td>837063.0</td>\n      <td>NaN</td>\n      <td>3.9369</td>\n      <td>NaN</td>\n      <td>2232273.0</td>\n      <td>NaN</td>\n      <td>NaN</td>\n      <td>NaN</td>\n      <td>NaN</td>\n      <td>3.7</td>\n    </tr>\n  </tbody>\n</table>\n<p>156 rows × 10 columns</p>\n</div>"
     },
     "execution_count": 48,
     "metadata": {},
     "output_type": "execute_result"
    }
   ],
   "source": [
    "combined = combined.drop(['2011-01-01', '2024-02-01', '2024-03-01'])\n",
    "combined"
   ]
  },
  {
   "cell_type": "code",
   "execution_count": 49,
   "id": "96e7626b",
   "metadata": {},
   "outputs": [
    {
     "data": {
      "text/plain": "Unemployed         0\nGold (Close)      54\nUSD (Close)       44\nOil (Close)       55\nTourists           0\nCars               1\nImportExport       1\nIndustryProd       1\nCommerceInvest     1\nInflation          0\ndtype: int64"
     },
     "execution_count": 49,
     "metadata": {},
     "output_type": "execute_result"
    }
   ],
   "source": [
    "combined.isna().sum()"
   ]
  },
  {
   "cell_type": "code",
   "execution_count": 50,
   "id": "f06367c1",
   "metadata": {},
   "outputs": [
    {
     "data": {
      "text/plain": "            Unemployed  Gold (Close)  USD (Close)  Oil (Close)   Tourists  \\\n2011-02-01   2150233.0   1339.599976      2.81990   101.739998  1232497.0   \n2011-03-01   2133916.0   1430.699951      2.89540   115.419998  1449978.0   \n2011-04-01   2043516.0   1428.099976      2.82240   118.699997  1510034.0   \n2011-05-01   1962587.0   1485.250000      2.79420   116.614998  2006688.0   \n2011-06-01   1883299.0   1542.400024      2.76600   114.529999  2254963.0   \n...                ...           ...          ...          ...        ...   \n2023-09-01    775987.0   1939.800049      4.14140    88.550003  3568440.0   \n2023-10-01    770446.0   1959.300049      4.18065    86.590000  2983069.0   \n2023-11-01    773403.0   1978.800049      4.21990    84.629997  2526391.0   \n2023-12-01    788229.0   2071.000000      3.97000    78.879997  2472961.0   \n2024-01-01    837063.0   2071.000000      3.93690    78.879997  2232273.0   \n\n                Cars  ImportExport  IndustryProd  CommerceInvest  Inflation  \n2011-02-01   67610.0        110.28         110.5            13.7        3.6  \n2011-03-01   67610.0        112.79         106.2            15.1        4.3  \n2011-04-01   69213.0        111.05         106.5            19.3        4.5  \n2011-05-01   69213.0        106.81         107.9            17.0        5.0  \n2011-06-01   69213.0        105.07         102.5            20.0        4.2  \n...              ...           ...           ...             ...        ...  \n2023-09-01  112282.0         92.46          96.7             4.9        8.2  \n2023-10-01  125273.0         92.53         102.0             7.4        6.6  \n2023-11-01  125273.0         91.56          99.7             4.9        6.6  \n2023-12-01  125273.0         91.06          96.5             2.4        6.2  \n2024-01-01  125273.0         91.06          96.5             2.4        3.7  \n\n[156 rows x 10 columns]",
      "text/html": "<div>\n<style scoped>\n    .dataframe tbody tr th:only-of-type {\n        vertical-align: middle;\n    }\n\n    .dataframe tbody tr th {\n        vertical-align: top;\n    }\n\n    .dataframe thead th {\n        text-align: right;\n    }\n</style>\n<table border=\"1\" class=\"dataframe\">\n  <thead>\n    <tr style=\"text-align: right;\">\n      <th></th>\n      <th>Unemployed</th>\n      <th>Gold (Close)</th>\n      <th>USD (Close)</th>\n      <th>Oil (Close)</th>\n      <th>Tourists</th>\n      <th>Cars</th>\n      <th>ImportExport</th>\n      <th>IndustryProd</th>\n      <th>CommerceInvest</th>\n      <th>Inflation</th>\n    </tr>\n  </thead>\n  <tbody>\n    <tr>\n      <th>2011-02-01</th>\n      <td>2150233.0</td>\n      <td>1339.599976</td>\n      <td>2.81990</td>\n      <td>101.739998</td>\n      <td>1232497.0</td>\n      <td>67610.0</td>\n      <td>110.28</td>\n      <td>110.5</td>\n      <td>13.7</td>\n      <td>3.6</td>\n    </tr>\n    <tr>\n      <th>2011-03-01</th>\n      <td>2133916.0</td>\n      <td>1430.699951</td>\n      <td>2.89540</td>\n      <td>115.419998</td>\n      <td>1449978.0</td>\n      <td>67610.0</td>\n      <td>112.79</td>\n      <td>106.2</td>\n      <td>15.1</td>\n      <td>4.3</td>\n    </tr>\n    <tr>\n      <th>2011-04-01</th>\n      <td>2043516.0</td>\n      <td>1428.099976</td>\n      <td>2.82240</td>\n      <td>118.699997</td>\n      <td>1510034.0</td>\n      <td>69213.0</td>\n      <td>111.05</td>\n      <td>106.5</td>\n      <td>19.3</td>\n      <td>4.5</td>\n    </tr>\n    <tr>\n      <th>2011-05-01</th>\n      <td>1962587.0</td>\n      <td>1485.250000</td>\n      <td>2.79420</td>\n      <td>116.614998</td>\n      <td>2006688.0</td>\n      <td>69213.0</td>\n      <td>106.81</td>\n      <td>107.9</td>\n      <td>17.0</td>\n      <td>5.0</td>\n    </tr>\n    <tr>\n      <th>2011-06-01</th>\n      <td>1883299.0</td>\n      <td>1542.400024</td>\n      <td>2.76600</td>\n      <td>114.529999</td>\n      <td>2254963.0</td>\n      <td>69213.0</td>\n      <td>105.07</td>\n      <td>102.5</td>\n      <td>20.0</td>\n      <td>4.2</td>\n    </tr>\n    <tr>\n      <th>...</th>\n      <td>...</td>\n      <td>...</td>\n      <td>...</td>\n      <td>...</td>\n      <td>...</td>\n      <td>...</td>\n      <td>...</td>\n      <td>...</td>\n      <td>...</td>\n      <td>...</td>\n    </tr>\n    <tr>\n      <th>2023-09-01</th>\n      <td>775987.0</td>\n      <td>1939.800049</td>\n      <td>4.14140</td>\n      <td>88.550003</td>\n      <td>3568440.0</td>\n      <td>112282.0</td>\n      <td>92.46</td>\n      <td>96.7</td>\n      <td>4.9</td>\n      <td>8.2</td>\n    </tr>\n    <tr>\n      <th>2023-10-01</th>\n      <td>770446.0</td>\n      <td>1959.300049</td>\n      <td>4.18065</td>\n      <td>86.590000</td>\n      <td>2983069.0</td>\n      <td>125273.0</td>\n      <td>92.53</td>\n      <td>102.0</td>\n      <td>7.4</td>\n      <td>6.6</td>\n    </tr>\n    <tr>\n      <th>2023-11-01</th>\n      <td>773403.0</td>\n      <td>1978.800049</td>\n      <td>4.21990</td>\n      <td>84.629997</td>\n      <td>2526391.0</td>\n      <td>125273.0</td>\n      <td>91.56</td>\n      <td>99.7</td>\n      <td>4.9</td>\n      <td>6.6</td>\n    </tr>\n    <tr>\n      <th>2023-12-01</th>\n      <td>788229.0</td>\n      <td>2071.000000</td>\n      <td>3.97000</td>\n      <td>78.879997</td>\n      <td>2472961.0</td>\n      <td>125273.0</td>\n      <td>91.06</td>\n      <td>96.5</td>\n      <td>2.4</td>\n      <td>6.2</td>\n    </tr>\n    <tr>\n      <th>2024-01-01</th>\n      <td>837063.0</td>\n      <td>2071.000000</td>\n      <td>3.93690</td>\n      <td>78.879997</td>\n      <td>2232273.0</td>\n      <td>125273.0</td>\n      <td>91.06</td>\n      <td>96.5</td>\n      <td>2.4</td>\n      <td>3.7</td>\n    </tr>\n  </tbody>\n</table>\n<p>156 rows × 10 columns</p>\n</div>"
     },
     "execution_count": 50,
     "metadata": {},
     "output_type": "execute_result"
    }
   ],
   "source": [
    "interpolated = combined.interpolate()\n",
    "interpolated"
   ]
  },
  {
   "cell_type": "code",
   "execution_count": 51,
   "id": "55dc5a72",
   "metadata": {},
   "outputs": [
    {
     "data": {
      "text/plain": "Unemployed        False\nGold (Close)      False\nUSD (Close)       False\nOil (Close)       False\nTourists          False\nCars              False\nImportExport      False\nIndustryProd      False\nCommerceInvest    False\nInflation         False\ndtype: bool"
     },
     "execution_count": 51,
     "metadata": {},
     "output_type": "execute_result"
    }
   ],
   "source": [
    "interpolated.isna().any()"
   ]
  },
  {
   "cell_type": "markdown",
   "id": "d134d673",
   "metadata": {},
   "source": [
    "Save dataset to CSV"
   ]
  },
  {
   "cell_type": "code",
   "execution_count": 52,
   "id": "2a54a70f",
   "metadata": {},
   "outputs": [],
   "source": [
    "interpolated.to_csv('files/dataset.csv')"
   ]
  }
 ],
 "metadata": {
  "kernelspec": {
   "display_name": "Python 3 (ipykernel)",
   "language": "python",
   "name": "python3"
  },
  "language_info": {
   "codemirror_mode": {
    "name": "ipython",
    "version": 3
   },
   "file_extension": ".py",
   "mimetype": "text/x-python",
   "name": "python",
   "nbconvert_exporter": "python",
   "pygments_lexer": "ipython3",
   "version": "3.10.13"
  }
 },
 "nbformat": 4,
 "nbformat_minor": 5
}
